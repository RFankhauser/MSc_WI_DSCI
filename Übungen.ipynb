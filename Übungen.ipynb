{
 "cells": [
  {
   "cell_type": "markdown",
   "id": "e4116177",
   "metadata": {},
   "source": [
    "## Gradientenabstieg"
   ]
  },
  {
   "cell_type": "code",
   "execution_count": 20,
   "id": "074e76c2",
   "metadata": {},
   "outputs": [
    {
     "name": "stdout",
     "output_type": "stream",
     "text": [
      "Minimum bei x = 2.66667, f(x) = -4.48148, nach 9 Iterationen\n"
     ]
    }
   ],
   "source": [
    "import sympy as sp\n",
    "\n",
    "# symbolische Variable und Funktion\n",
    "x_sym = sp.Symbol('x')\n",
    "f_expr = x_sym**3 - 4*x_sym**2 + 5\n",
    "\n",
    "# Ableitung berechnen und in Python-Funktionen umwandeln\n",
    "df_expr = sp.diff(f_expr, x_sym)\n",
    "df = sp.lambdify(x_sym, df_expr)\n",
    "f = sp.lambdify(x_sym, f_expr)\n",
    "\n",
    "# Gradient Descent\n",
    "learnrate = 0.1\n",
    "x = 2.5\n",
    "max_iter = 1000\n",
    "tolerance = 1e-6\n",
    "\n",
    "for i in range(max_iter):\n",
    "    grad = df(x)\n",
    "    new_x = x - learnrate * grad\n",
    "    if abs(new_x - x) < tolerance:\n",
    "        break\n",
    "    x = new_x\n",
    "\n",
    "print(f\"Minimum bei x = {x:.5f}, f(x) = {f(x):.5f}, nach {i+1} Iterationen\")\n",
    "\n"
   ]
  },
  {
   "cell_type": "code",
   "execution_count": 24,
   "id": "6765acb8",
   "metadata": {},
   "outputs": [
    {
     "name": "stdout",
     "output_type": "stream",
     "text": [
      "Minimum bei x = -0.57735, f(x) = 1.61510, nach 33 Iterationen\n"
     ]
    }
   ],
   "source": [
    "import sympy as sp\n",
    "\n",
    "# symbolische Variable und Funktion\n",
    "x_sym = sp.Symbol('x')\n",
    "f_expr = -x_sym**3 + x_sym + 2\n",
    "\n",
    "# Ableitung berechnen und in Python-Funktionen umwandeln\n",
    "df_expr = sp.diff(f_expr, x_sym)\n",
    "df = sp.lambdify(x_sym, df_expr)\n",
    "f = sp.lambdify(x_sym, f_expr)\n",
    "\n",
    "# Gradient Descent\n",
    "learnrate = 0.1\n",
    "x = 0\n",
    "max_iter = 1000\n",
    "tolerance = 1e-6\n",
    "\n",
    "for i in range(max_iter):\n",
    "    grad = df(x)\n",
    "    new_x = x - learnrate * grad\n",
    "    if abs(new_x - x) < tolerance:\n",
    "        break\n",
    "    x = new_x\n",
    "\n",
    "print(f\"Minimum bei x = {x:.5f}, f(x) = {f(x):.5f}, nach {i+1} Iterationen\")\n"
   ]
  },
  {
   "cell_type": "markdown",
   "id": "4c80445a",
   "metadata": {},
   "source": [
    "## Erosion & Dilatation\n",
    "\n",
    "**Erosion**:  \n",
    "Objekte werden kleiner, Ränder ziehen sich zurück, dünne Strukturen verschwinden.  \n",
    "-> Die Erosion entfernt Pixel an den Grenzen.\n",
    "\n",
    "**Dilatation**:  \n",
    "Objekte werden größer, Lücken oder kleine Zwischenräume verschwinden.  \n",
    "-> Die Dilatation fügt an den Grenzen Pixel hinzu.\n",
    "\n",
    "**Öffnung (Erosion -> Dilatation)**:  \n",
    "Kleine Partikel oder schmale Brücken verschwinden, große Objekte bleiben gleich groß oder leicht kleiner.  \n",
    "-> Erst schrumpfen (Erosion), dann wieder leicht wachsen (Dilatation).\n",
    "\n",
    "**Erosion (Dilatation -> Erosion)**:  \n",
    "Kleine Löcher oder Spalten in den Objekten werden gefüllt, Objekte wirken runder und kompakter.  \n",
    "-> Erst wachsen (dialatation), dann leicht schrumpfen (erosion)."
   ]
  },
  {
   "cell_type": "markdown",
   "id": "02a11771",
   "metadata": {},
   "source": [
    "\n",
    "\n"
   ]
  }
 ],
 "metadata": {
  "kernelspec": {
   "display_name": "MSc_WI_DSCI",
   "language": "python",
   "name": "python3"
  },
  "language_info": {
   "codemirror_mode": {
    "name": "ipython",
    "version": 3
   },
   "file_extension": ".py",
   "mimetype": "text/x-python",
   "name": "python",
   "nbconvert_exporter": "python",
   "pygments_lexer": "ipython3",
   "version": "3.10.13"
  }
 },
 "nbformat": 4,
 "nbformat_minor": 5
}
