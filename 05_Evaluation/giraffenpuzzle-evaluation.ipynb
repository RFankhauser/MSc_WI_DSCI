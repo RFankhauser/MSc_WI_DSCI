{
 "cells": [
  {
   "cell_type": "markdown",
   "metadata": {},
   "source": [
    "# Evaluation des Neuronalen Netzes zur Giraffenpuzzle-Erkennung\n",
    "Das Notebook [Giraffenpuzzle-Training](https://www.kaggle.com/code/toedtlifhsg/giraffenpuzzle-training?scriptVersionId=187781292) produzierte als Ausgabe ein fertig trainiertes neuronales Netz, sowie eine Aufsplittung des Giraffenpuzzleteile-Datensatzes in einen Trainings- und einen Testdatensatz. Hier wollen wir das Modell laden und auf dem Testdatensatz evaluieren."
   ]
  },
  {
   "cell_type": "code",
   "execution_count": 20,
   "metadata": {
    "execution": {
     "iopub.execute_input": "2024-08-05T13:06:43.921389Z",
     "iopub.status.busy": "2024-08-05T13:06:43.920923Z",
     "iopub.status.idle": "2024-08-05T13:06:43.927671Z",
     "shell.execute_reply": "2024-08-05T13:06:43.926450Z",
     "shell.execute_reply.started": "2024-08-05T13:06:43.921357Z"
    },
    "trusted": true
   },
   "outputs": [],
   "source": [
    "import matplotlib.pyplot as plt #Plottingroutinen zur Visualisierung\n",
    "import numpy as np # Arrays- \"The fundamental package for scientific computing with Python\" \n",
    "import pandas as pd #Umgang mit Tabellen- hier nur zum Laden der Klassenlabels\n",
    "import tensorflow as tf #Tensorflow, trainieren von neuronale Netzen (inkl. Keras)\n",
    "import shutil # Dateisystemmanipulationen, insbesondere für das Kopieren von Dateien\n",
    "from pathlib import Path #Pathlib, Umgang mit Dateipfaden\n",
    "import scikitplot # Visualisierungen von Klassifikationsperformanz"
   ]
  },
  {
   "cell_type": "code",
   "execution_count": 21,
   "metadata": {
    "execution": {
     "iopub.execute_input": "2024-08-05T13:01:18.057474Z",
     "iopub.status.busy": "2024-08-05T13:01:18.056946Z",
     "iopub.status.idle": "2024-08-05T13:01:18.592757Z",
     "shell.execute_reply": "2024-08-05T13:01:18.591703Z",
     "shell.execute_reply.started": "2024-08-05T13:01:18.057429Z"
    },
    "trusted": true
   },
   "outputs": [],
   "source": [
    "# Modell laden:\n",
    "loaded_model = tf.keras.models.load_model('../04_Training/Model/model_Gipfeli.keras')\n",
    "# Excel-Datei mit Angabe, ob ein Bild ein Test- oder ein Trainingsbild ist:\n",
    "train_or_test = pd.read_excel('../04_Training/train_test_split.xlsx')\n",
    "train_or_test.columns = ['Dateiname','TrainOrTest']"
   ]
  },
  {
   "cell_type": "markdown",
   "metadata": {},
   "source": [
    "Hiermit haben wir die Zuordnung unserer Daten zu den Trainings- und Testdaten. Wir wollen hier nur noch Bilder, mit welchen das Modell nicht trainiert wurde."
   ]
  },
  {
   "cell_type": "code",
   "execution_count": 22,
   "metadata": {
    "execution": {
     "iopub.execute_input": "2024-08-05T13:01:22.340556Z",
     "iopub.status.busy": "2024-08-05T13:01:22.339157Z",
     "iopub.status.idle": "2024-08-05T13:01:22.366028Z",
     "shell.execute_reply": "2024-08-05T13:01:22.364560Z",
     "shell.execute_reply.started": "2024-08-05T13:01:22.340503Z"
    },
    "trusted": true
   },
   "outputs": [
    {
     "data": {
      "application/vnd.microsoft.datawrangler.viewer.v0+json": {
       "columns": [
        {
         "name": "index",
         "rawType": "int64",
         "type": "integer"
        },
        {
         "name": "Dateiname",
         "rawType": "object",
         "type": "string"
        },
        {
         "name": "TrainOrTest",
         "rawType": "object",
         "type": "string"
        }
       ],
       "ref": "877fd48f-3716-44ef-a926-0e531cbf6e79",
       "rows": [
        [
         "0",
         "Laugengipfel_low_light_34.jpg",
         "train"
        ],
        [
         "1",
         "Laugengipfel_low_light_20.jpg",
         "train"
        ],
        [
         "2",
         "Keimkraft_Gipfel_light_15.jpg",
         "train"
        ],
        [
         "3",
         "Laugengipfel_light_19.jpg",
         "train"
        ],
        [
         "4",
         "Keimkraft_Gipfel_light_01.jpg",
         "train"
        ],
        [
         "5",
         "Keimkraft_Gipfel_light_29.jpg",
         "train"
        ],
        [
         "6",
         "Laugengipfel_light_25.jpg",
         "train"
        ],
        [
         "7",
         "Laugengipfel_light_31.jpg",
         "train"
        ],
        [
         "8",
         "Keimkraft_Gipfel_light_28.jpg",
         "train"
        ],
        [
         "9",
         "Keimkraft_Gipfel_light_14.jpg",
         "train"
        ],
        [
         "10",
         "Buttergipfel_light_41.jpg",
         "train"
        ],
        [
         "11",
         "Laugengipfel_low_light_21.jpg",
         "train"
        ],
        [
         "12",
         "Laugengipfel_low_light_35.jpg",
         "train"
        ],
        [
         "13",
         "Laugengipfel_low_light_09.jpg",
         "train"
        ],
        [
         "14",
         "Buttergipfel_low_light_40.jpg",
         "train"
        ],
        [
         "15",
         "Laugengipfel_low_light_23.jpg",
         "train"
        ],
        [
         "16",
         "Laugengipfel_low_light_37.jpg",
         "train"
        ],
        [
         "17",
         "Laugengipfel_light_32.jpg",
         "train"
        ],
        [
         "18",
         "Laugengipfel_light_27.jpg",
         "train"
        ],
        [
         "19",
         "Laugengipfel_light_33.jpg",
         "train"
        ],
        [
         "20",
         "Keimkraft_Gipfel_light_17.jpg",
         "train"
        ],
        [
         "21",
         "Laugengipfel_low_light_36.jpg",
         "train"
        ],
        [
         "22",
         "Laugengipfel_low_light_26.jpg",
         "train"
        ],
        [
         "23",
         "Laugengipfel_low_light_32.jpg",
         "train"
        ],
        [
         "24",
         "Laugengipfel_light_37.jpg",
         "train"
        ],
        [
         "25",
         ".DS_Store",
         "test"
        ],
        [
         "26",
         "Laugengipfel_light_23.jpg",
         "train"
        ],
        [
         "27",
         "Keimkraft_Gipfel_light_07.jpg",
         "train"
        ],
        [
         "28",
         "Keimkraft_Gipfel_light_12.jpg",
         "train"
        ],
        [
         "29",
         "Laugengipfel_light_36.jpg",
         "train"
        ],
        [
         "30",
         "Laugengipfel_low_light_27.jpg",
         "train"
        ],
        [
         "31",
         "Laugengipfel_low_light_31.jpg",
         "train"
        ],
        [
         "32",
         "Laugengipfel_low_light_25.jpg",
         "train"
        ],
        [
         "33",
         "Laugengipfel_low_light_19.jpg",
         "train"
        ],
        [
         "34",
         "Keimkraft_Gipfel_light_38.jpg",
         "train"
        ],
        [
         "35",
         "Keimkraft_Gipfel_light_10.jpg",
         "train"
        ],
        [
         "36",
         "Keimkraft_Gipfel_light_04.jpg",
         "train"
        ],
        [
         "37",
         "Laugengipfel_light_08.jpg",
         "train"
        ],
        [
         "38",
         "Laugengipfel_light_09.jpg",
         "train"
        ],
        [
         "39",
         "Keimkraft_Gipfel_light_39.jpg",
         "train"
        ],
        [
         "40",
         "Laugengipfel_light_21.jpg",
         "train"
        ],
        [
         "41",
         "Laugengipfel_low_light_30.jpg",
         "train"
        ],
        [
         "42",
         "Buttergipfel_low_light_08.jpg",
         "train"
        ],
        [
         "43",
         "Buttergipfel_low_light_20.jpg",
         "train"
        ],
        [
         "44",
         "Buttergipfel_light_37.jpg",
         "train"
        ],
        [
         "45",
         "Keimkraft_Gipfel_low_light_07.jpg",
         "train"
        ],
        [
         "46",
         "Laugengipfel_light_46.jpg",
         "train"
        ],
        [
         "47",
         "Keimkraft_Gipfel_low_light_12.jpg",
         "train"
        ],
        [
         "48",
         "Keimkraft_Gipfel_low_light_06.jpg",
         "train"
        ],
        [
         "49",
         "Buttergipfel_light_22.jpg",
         "train"
        ]
       ],
       "shape": {
        "columns": 2,
        "rows": 174
       }
      },
      "text/html": [
       "<div>\n",
       "<style scoped>\n",
       "    .dataframe tbody tr th:only-of-type {\n",
       "        vertical-align: middle;\n",
       "    }\n",
       "\n",
       "    .dataframe tbody tr th {\n",
       "        vertical-align: top;\n",
       "    }\n",
       "\n",
       "    .dataframe thead th {\n",
       "        text-align: right;\n",
       "    }\n",
       "</style>\n",
       "<table border=\"1\" class=\"dataframe\">\n",
       "  <thead>\n",
       "    <tr style=\"text-align: right;\">\n",
       "      <th></th>\n",
       "      <th>Dateiname</th>\n",
       "      <th>TrainOrTest</th>\n",
       "    </tr>\n",
       "  </thead>\n",
       "  <tbody>\n",
       "    <tr>\n",
       "      <th>0</th>\n",
       "      <td>Laugengipfel_low_light_34.jpg</td>\n",
       "      <td>train</td>\n",
       "    </tr>\n",
       "    <tr>\n",
       "      <th>1</th>\n",
       "      <td>Laugengipfel_low_light_20.jpg</td>\n",
       "      <td>train</td>\n",
       "    </tr>\n",
       "    <tr>\n",
       "      <th>2</th>\n",
       "      <td>Keimkraft_Gipfel_light_15.jpg</td>\n",
       "      <td>train</td>\n",
       "    </tr>\n",
       "    <tr>\n",
       "      <th>3</th>\n",
       "      <td>Laugengipfel_light_19.jpg</td>\n",
       "      <td>train</td>\n",
       "    </tr>\n",
       "    <tr>\n",
       "      <th>4</th>\n",
       "      <td>Keimkraft_Gipfel_light_01.jpg</td>\n",
       "      <td>train</td>\n",
       "    </tr>\n",
       "    <tr>\n",
       "      <th>...</th>\n",
       "      <td>...</td>\n",
       "      <td>...</td>\n",
       "    </tr>\n",
       "    <tr>\n",
       "      <th>169</th>\n",
       "      <td>Keimkraft_Gipfel_light_30.jpg</td>\n",
       "      <td>test</td>\n",
       "    </tr>\n",
       "    <tr>\n",
       "      <th>170</th>\n",
       "      <td>Keimkraft_Gipfel_low_light_41.jpg</td>\n",
       "      <td>test</td>\n",
       "    </tr>\n",
       "    <tr>\n",
       "      <th>171</th>\n",
       "      <td>Keimkraft_Gipfel_light_18.jpg</td>\n",
       "      <td>test</td>\n",
       "    </tr>\n",
       "    <tr>\n",
       "      <th>172</th>\n",
       "      <td>Laugengipfel_light_14.jpg</td>\n",
       "      <td>test</td>\n",
       "    </tr>\n",
       "    <tr>\n",
       "      <th>173</th>\n",
       "      <td>Laugengipfel_low_light_11.jpg</td>\n",
       "      <td>test</td>\n",
       "    </tr>\n",
       "  </tbody>\n",
       "</table>\n",
       "<p>174 rows × 2 columns</p>\n",
       "</div>"
      ],
      "text/plain": [
       "                             Dateiname TrainOrTest\n",
       "0        Laugengipfel_low_light_34.jpg       train\n",
       "1        Laugengipfel_low_light_20.jpg       train\n",
       "2        Keimkraft_Gipfel_light_15.jpg       train\n",
       "3            Laugengipfel_light_19.jpg       train\n",
       "4        Keimkraft_Gipfel_light_01.jpg       train\n",
       "..                                 ...         ...\n",
       "169      Keimkraft_Gipfel_light_30.jpg        test\n",
       "170  Keimkraft_Gipfel_low_light_41.jpg        test\n",
       "171      Keimkraft_Gipfel_light_18.jpg        test\n",
       "172          Laugengipfel_light_14.jpg        test\n",
       "173      Laugengipfel_low_light_11.jpg        test\n",
       "\n",
       "[174 rows x 2 columns]"
      ]
     },
     "execution_count": 22,
     "metadata": {},
     "output_type": "execute_result"
    }
   ],
   "source": [
    "train_or_test"
   ]
  },
  {
   "cell_type": "markdown",
   "metadata": {},
   "source": [
    "Wir erstellen nun zwei Baumstrukturen (für Trainings- und Testdaten). Das Klassenlabel extrahieren wir aus dem Dateinamen- hier ist es alles vor dem ersten Underscore, \"_\"."
   ]
  },
  {
   "cell_type": "code",
   "execution_count": 23,
   "metadata": {
    "execution": {
     "iopub.execute_input": "2024-08-05T13:03:12.847295Z",
     "iopub.status.busy": "2024-08-05T13:03:12.846814Z",
     "iopub.status.idle": "2024-08-05T13:03:13.369015Z",
     "shell.execute_reply": "2024-08-05T13:03:13.367933Z",
     "shell.execute_reply.started": "2024-08-05T13:03:12.847258Z"
    },
    "trusted": true
   },
   "outputs": [
    {
     "name": "stdout",
     "output_type": "stream",
     "text": [
      "Überspringe .DS_Store\n"
     ]
    }
   ],
   "source": [
    "# Extrahiere Klassenlabel aus Dateiname\n",
    "Klassenlabel = train_or_test.Dateiname.map(lambda s:s[:s.find('_')])\n",
    "train_or_test['Klasse'] = Klassenlabel\n",
    "\n",
    "# Wähle nur die Testdaten\n",
    "testbilder = train_or_test[ train_or_test['TrainOrTest']=='test' ]\n",
    "y_test = Klassenlabel[ train_or_test['TrainOrTest']=='test' ]\n",
    "\n",
    "# Kopiere die Testbilder in eine Baumstruktur\n",
    "for irow,row in testbilder.iterrows():\n",
    "    Dateiname,TrainOrTest,Klasse = (row.Dateiname,row.TrainOrTest,row.Klasse)\n",
    "\n",
    "    # Nur .DS_Store überspringen\n",
    "    if Dateiname == \".DS_Store\":\n",
    "        print(\"Überspringe .DS_Store\")\n",
    "        continue\n",
    "\n",
    "    fullfilename = Path('../02_Alle_Gipfel')/Dateiname\n",
    "    Baumstrukturpfad = Path('./')/'test'\n",
    "    (Baumstrukturpfad/Klasse).mkdir(exist_ok=True,parents=True)\n",
    "    shutil.copyfile(fullfilename,Baumstrukturpfad/Klasse/Dateiname)"
   ]
  },
  {
   "cell_type": "markdown",
   "metadata": {},
   "source": [
    "tf.Dataset ist eine Tensorflowklasse, welche effizient Trainingsbilder aus der Baumstruktur lädt."
   ]
  },
  {
   "cell_type": "code",
   "execution_count": 24,
   "metadata": {
    "execution": {
     "iopub.execute_input": "2024-08-05T13:05:43.220275Z",
     "iopub.status.busy": "2024-08-05T13:05:43.219825Z",
     "iopub.status.idle": "2024-08-05T13:05:43.293142Z",
     "shell.execute_reply": "2024-08-05T13:05:43.292000Z",
     "shell.execute_reply.started": "2024-08-05T13:05:43.220238Z"
    },
    "trusted": true
   },
   "outputs": [
    {
     "name": "stdout",
     "output_type": "stream",
     "text": [
      "Found 70 files belonging to 3 classes.\n"
     ]
    }
   ],
   "source": [
    "image_size=(64,64)\n",
    "batch_size=32\n",
    "test_ds = tf.keras.utils.image_dataset_from_directory(\n",
    "    Baumstrukturpfad,  #es ist wichtig, dass zur Validierung keine Testdaten verwendet werden!\n",
    "    validation_split=0.0,\n",
    "    #subset=\"validation\",\n",
    "    shuffle=False, # Das ist wichtig, da wir später die Bilder in der gleichen Reihenfolge aus dem Dataset extrahieren müssen, in der wir sie dem Modell zur prediction gefüttert haben.\n",
    "    seed=123,\n",
    "    image_size=image_size,\n",
    "    batch_size=batch_size)"
   ]
  },
  {
   "cell_type": "markdown",
   "metadata": {},
   "source": [
    "Steht da in der letzten Zeile `Found 94 files belonging to 20 classes.`, o.ä.? Gut!\n",
    "Laden wir diese Bilder nun als Numpy-Arrays. Es gibt andere Möglichkeiten, das gleiche zu erreichen, aber jedenfalls erhalten wir einen Numpy-Array mit den Dimensionen (Anzahl Bilder, 64,64, Anzahl Farbkanäle)."
   ]
  },
  {
   "cell_type": "code",
   "execution_count": 25,
   "metadata": {
    "execution": {
     "iopub.execute_input": "2024-08-05T13:10:32.068446Z",
     "iopub.status.busy": "2024-08-05T13:10:32.067961Z",
     "iopub.status.idle": "2024-08-05T13:10:32.103504Z",
     "shell.execute_reply": "2024-08-05T13:10:32.102305Z",
     "shell.execute_reply.started": "2024-08-05T13:10:32.068409Z"
    },
    "trusted": true
   },
   "outputs": [
    {
     "name": "stderr",
     "output_type": "stream",
     "text": [
      "2025-10-11 16:26:36.623334: I tensorflow/core/framework/local_rendezvous.cc:407] Local rendezvous is aborting with status: OUT_OF_RANGE: End of sequence\n"
     ]
    },
    {
     "data": {
      "text/plain": [
       "((70, 64, 64, 3), (70,))"
      ]
     },
     "execution_count": 25,
     "metadata": {},
     "output_type": "execute_result"
    }
   ],
   "source": [
    "L = [x for x in test_ds] # wir extrahieren die Testbilder aus dem Dataset\n",
    "#X_test = [x.numpy().shape for x,y in L]\n",
    "X_test = np.vstack([x.numpy() for x,y in L])\n",
    "y_test = np.hstack([y.numpy() for x,y in L])\n",
    "X_test.shape,y_test.shape"
   ]
  },
  {
   "cell_type": "markdown",
   "metadata": {},
   "source": [
    "Wir überprüfen, dass zumindest das erste Bild in Xtest dem ersten eintrag in der testbilder-Liste entspricht:"
   ]
  },
  {
   "cell_type": "code",
   "execution_count": 27,
   "metadata": {
    "execution": {
     "iopub.execute_input": "2024-08-05T13:10:37.790141Z",
     "iopub.status.busy": "2024-08-05T13:10:37.789721Z",
     "iopub.status.idle": "2024-08-05T13:10:37.804287Z",
     "shell.execute_reply": "2024-08-05T13:10:37.803126Z",
     "shell.execute_reply.started": "2024-08-05T13:10:37.790106Z"
    },
    "trusted": true
   },
   "outputs": [
    {
     "data": {
      "application/vnd.microsoft.datawrangler.viewer.v0+json": {
       "columns": [
        {
         "name": "index",
         "rawType": "int64",
         "type": "integer"
        },
        {
         "name": "Dateiname",
         "rawType": "object",
         "type": "string"
        },
        {
         "name": "TrainOrTest",
         "rawType": "object",
         "type": "string"
        },
        {
         "name": "Klasse",
         "rawType": "object",
         "type": "string"
        }
       ],
       "ref": "d495bc3a-5c0a-4048-9961-49317fb4a030",
       "rows": [
        [
         "25",
         ".DS_Store",
         "test",
         ".DS"
        ]
       ],
       "shape": {
        "columns": 3,
        "rows": 1
       }
      },
      "text/html": [
       "<div>\n",
       "<style scoped>\n",
       "    .dataframe tbody tr th:only-of-type {\n",
       "        vertical-align: middle;\n",
       "    }\n",
       "\n",
       "    .dataframe tbody tr th {\n",
       "        vertical-align: top;\n",
       "    }\n",
       "\n",
       "    .dataframe thead th {\n",
       "        text-align: right;\n",
       "    }\n",
       "</style>\n",
       "<table border=\"1\" class=\"dataframe\">\n",
       "  <thead>\n",
       "    <tr style=\"text-align: right;\">\n",
       "      <th></th>\n",
       "      <th>Dateiname</th>\n",
       "      <th>TrainOrTest</th>\n",
       "      <th>Klasse</th>\n",
       "    </tr>\n",
       "  </thead>\n",
       "  <tbody>\n",
       "    <tr>\n",
       "      <th>25</th>\n",
       "      <td>.DS_Store</td>\n",
       "      <td>test</td>\n",
       "      <td>.DS</td>\n",
       "    </tr>\n",
       "  </tbody>\n",
       "</table>\n",
       "</div>"
      ],
      "text/plain": [
       "    Dateiname TrainOrTest Klasse\n",
       "25  .DS_Store        test    .DS"
      ]
     },
     "execution_count": 27,
     "metadata": {},
     "output_type": "execute_result"
    }
   ],
   "source": [
    "testbildname = sorted(testbilder.Dateiname)[0] # \"[0]\": erstes Bild\n",
    "dfrow = testbilder[testbilder.Dateiname==testbildname]\n",
    "testbildklasse = dfrow.Klasse.iloc[0]\n",
    "dfrow"
   ]
  },
  {
   "cell_type": "code",
   "execution_count": 28,
   "metadata": {
    "execution": {
     "iopub.execute_input": "2024-08-05T13:10:44.130348Z",
     "iopub.status.busy": "2024-08-05T13:10:44.129909Z",
     "iopub.status.idle": "2024-08-05T13:10:44.445923Z",
     "shell.execute_reply": "2024-08-05T13:10:44.444586Z",
     "shell.execute_reply.started": "2024-08-05T13:10:44.130311Z"
    },
    "trusted": true
   },
   "outputs": [
    {
     "ename": "FileNotFoundError",
     "evalue": "[Errno 2] No such file or directory: 'test/.DS/.DS_Store'",
     "output_type": "error",
     "traceback": [
      "\u001b[0;31m---------------------------------------------------------------------------\u001b[0m",
      "\u001b[0;31mFileNotFoundError\u001b[0m                         Traceback (most recent call last)",
      "Cell \u001b[0;32mIn[28], line 1\u001b[0m\n\u001b[0;32m----> 1\u001b[0m testbild1 \u001b[38;5;241m=\u001b[39m \u001b[43mplt\u001b[49m\u001b[38;5;241;43m.\u001b[39;49m\u001b[43mimread\u001b[49m\u001b[43m(\u001b[49m\u001b[43mBaumstrukturpfad\u001b[49m\u001b[38;5;241;43m/\u001b[39;49m\u001b[43mtestbildklasse\u001b[49m\u001b[38;5;241;43m/\u001b[39;49m\u001b[43mtestbildname\u001b[49m\u001b[43m)\u001b[49m\n\u001b[1;32m      2\u001b[0m plt\u001b[38;5;241m.\u001b[39mimshow(testbild1)\n\u001b[1;32m      3\u001b[0m plt\u001b[38;5;241m.\u001b[39mtitle(testbildname);\n",
      "File \u001b[0;32m~/Github/MSc_WI_DSCI/.venv/lib/python3.10/site-packages/matplotlib/pyplot.py:2614\u001b[0m, in \u001b[0;36mimread\u001b[0;34m(fname, format)\u001b[0m\n\u001b[1;32m   2610\u001b[0m \u001b[38;5;129m@_copy_docstring_and_deprecators\u001b[39m(matplotlib\u001b[38;5;241m.\u001b[39mimage\u001b[38;5;241m.\u001b[39mimread)\n\u001b[1;32m   2611\u001b[0m \u001b[38;5;28;01mdef\u001b[39;00m\u001b[38;5;250m \u001b[39m\u001b[38;5;21mimread\u001b[39m(\n\u001b[1;32m   2612\u001b[0m         fname: \u001b[38;5;28mstr\u001b[39m \u001b[38;5;241m|\u001b[39m pathlib\u001b[38;5;241m.\u001b[39mPath \u001b[38;5;241m|\u001b[39m BinaryIO, \u001b[38;5;28mformat\u001b[39m: \u001b[38;5;28mstr\u001b[39m \u001b[38;5;241m|\u001b[39m \u001b[38;5;28;01mNone\u001b[39;00m \u001b[38;5;241m=\u001b[39m \u001b[38;5;28;01mNone\u001b[39;00m\n\u001b[1;32m   2613\u001b[0m ) \u001b[38;5;241m-\u001b[39m\u001b[38;5;241m>\u001b[39m np\u001b[38;5;241m.\u001b[39mndarray:\n\u001b[0;32m-> 2614\u001b[0m     \u001b[38;5;28;01mreturn\u001b[39;00m \u001b[43mmatplotlib\u001b[49m\u001b[38;5;241;43m.\u001b[39;49m\u001b[43mimage\u001b[49m\u001b[38;5;241;43m.\u001b[39;49m\u001b[43mimread\u001b[49m\u001b[43m(\u001b[49m\u001b[43mfname\u001b[49m\u001b[43m,\u001b[49m\u001b[43m \u001b[49m\u001b[38;5;28;43mformat\u001b[39;49m\u001b[43m)\u001b[49m\n",
      "File \u001b[0;32m~/Github/MSc_WI_DSCI/.venv/lib/python3.10/site-packages/matplotlib/image.py:1520\u001b[0m, in \u001b[0;36mimread\u001b[0;34m(fname, format)\u001b[0m\n\u001b[1;32m   1513\u001b[0m \u001b[38;5;28;01mif\u001b[39;00m \u001b[38;5;28misinstance\u001b[39m(fname, \u001b[38;5;28mstr\u001b[39m) \u001b[38;5;129;01mand\u001b[39;00m \u001b[38;5;28mlen\u001b[39m(parse\u001b[38;5;241m.\u001b[39murlparse(fname)\u001b[38;5;241m.\u001b[39mscheme) \u001b[38;5;241m>\u001b[39m \u001b[38;5;241m1\u001b[39m:\n\u001b[1;32m   1514\u001b[0m     \u001b[38;5;66;03m# Pillow doesn't handle URLs directly.\u001b[39;00m\n\u001b[1;32m   1515\u001b[0m     \u001b[38;5;28;01mraise\u001b[39;00m \u001b[38;5;167;01mValueError\u001b[39;00m(\n\u001b[1;32m   1516\u001b[0m         \u001b[38;5;124m\"\u001b[39m\u001b[38;5;124mPlease open the URL for reading and pass the \u001b[39m\u001b[38;5;124m\"\u001b[39m\n\u001b[1;32m   1517\u001b[0m         \u001b[38;5;124m\"\u001b[39m\u001b[38;5;124mresult to Pillow, e.g. with \u001b[39m\u001b[38;5;124m\"\u001b[39m\n\u001b[1;32m   1518\u001b[0m         \u001b[38;5;124m\"\u001b[39m\u001b[38;5;124m``np.array(PIL.Image.open(urllib.request.urlopen(url)))``.\u001b[39m\u001b[38;5;124m\"\u001b[39m\n\u001b[1;32m   1519\u001b[0m         )\n\u001b[0;32m-> 1520\u001b[0m \u001b[38;5;28;01mwith\u001b[39;00m \u001b[43mimg_open\u001b[49m\u001b[43m(\u001b[49m\u001b[43mfname\u001b[49m\u001b[43m)\u001b[49m \u001b[38;5;28;01mas\u001b[39;00m image:\n\u001b[1;32m   1521\u001b[0m     \u001b[38;5;28;01mreturn\u001b[39;00m (_pil_png_to_float_array(image)\n\u001b[1;32m   1522\u001b[0m             \u001b[38;5;28;01mif\u001b[39;00m \u001b[38;5;28misinstance\u001b[39m(image, PIL\u001b[38;5;241m.\u001b[39mPngImagePlugin\u001b[38;5;241m.\u001b[39mPngImageFile) \u001b[38;5;28;01melse\u001b[39;00m\n\u001b[1;32m   1523\u001b[0m             pil_to_array(image))\n",
      "File \u001b[0;32m~/Github/MSc_WI_DSCI/.venv/lib/python3.10/site-packages/PIL/Image.py:3513\u001b[0m, in \u001b[0;36mopen\u001b[0;34m(fp, mode, formats)\u001b[0m\n\u001b[1;32m   3511\u001b[0m \u001b[38;5;28;01mif\u001b[39;00m is_path(fp):\n\u001b[1;32m   3512\u001b[0m     filename \u001b[38;5;241m=\u001b[39m os\u001b[38;5;241m.\u001b[39mfspath(fp)\n\u001b[0;32m-> 3513\u001b[0m     fp \u001b[38;5;241m=\u001b[39m \u001b[43mbuiltins\u001b[49m\u001b[38;5;241;43m.\u001b[39;49m\u001b[43mopen\u001b[49m\u001b[43m(\u001b[49m\u001b[43mfilename\u001b[49m\u001b[43m,\u001b[49m\u001b[43m \u001b[49m\u001b[38;5;124;43m\"\u001b[39;49m\u001b[38;5;124;43mrb\u001b[39;49m\u001b[38;5;124;43m\"\u001b[39;49m\u001b[43m)\u001b[49m\n\u001b[1;32m   3514\u001b[0m     exclusive_fp \u001b[38;5;241m=\u001b[39m \u001b[38;5;28;01mTrue\u001b[39;00m\n\u001b[1;32m   3515\u001b[0m \u001b[38;5;28;01melse\u001b[39;00m:\n",
      "\u001b[0;31mFileNotFoundError\u001b[0m: [Errno 2] No such file or directory: 'test/.DS/.DS_Store'"
     ]
    }
   ],
   "source": [
    "testbild1 = plt.imread(Baumstrukturpfad/testbildklasse/testbildname)\n",
    "plt.imshow(testbild1)\n",
    "plt.title(testbildname);"
   ]
  },
  {
   "cell_type": "markdown",
   "metadata": {},
   "source": [
    "Das entsprechende Bild in `X_test` wurde zentriert, d.h. die Farben stimmen nicht mehr:"
   ]
  },
  {
   "cell_type": "code",
   "execution_count": null,
   "metadata": {
    "execution": {
     "iopub.execute_input": "2024-08-05T13:11:52.548326Z",
     "iopub.status.busy": "2024-08-05T13:11:52.547875Z",
     "iopub.status.idle": "2024-08-05T13:11:52.822666Z",
     "shell.execute_reply": "2024-08-05T13:11:52.821386Z",
     "shell.execute_reply.started": "2024-08-05T13:11:52.548289Z"
    },
    "trusted": true
   },
   "outputs": [],
   "source": [
    "import matplotlib.pyplot as plt\n",
    "plt.imshow(X_test[0]);"
   ]
  },
  {
   "cell_type": "markdown",
   "metadata": {},
   "source": [
    "Die obigen zwei Bilder könnten das gleiche Bild sein (jenes unten ist so, wie es das neuronale Netz in etwa sieht...). D.h. wir verstehen nun die Reihenfolge der Predictions: "
   ]
  },
  {
   "cell_type": "code",
   "execution_count": null,
   "metadata": {
    "execution": {
     "iopub.execute_input": "2024-08-05T13:13:23.293431Z",
     "iopub.status.busy": "2024-08-05T13:13:23.292914Z",
     "iopub.status.idle": "2024-08-05T13:13:23.457705Z",
     "shell.execute_reply": "2024-08-05T13:13:23.456590Z",
     "shell.execute_reply.started": "2024-08-05T13:13:23.293386Z"
    },
    "trusted": true
   },
   "outputs": [],
   "source": [
    "yhat_test = loaded_model.predict(X_test)\n",
    "yhatnum_test = yhat_test.argmax(axis=1)\n",
    "yhat_test.shape"
   ]
  },
  {
   "cell_type": "code",
   "execution_count": null,
   "metadata": {
    "execution": {
     "iopub.execute_input": "2024-08-05T13:13:26.593974Z",
     "iopub.status.busy": "2024-08-05T13:13:26.593569Z",
     "iopub.status.idle": "2024-08-05T13:13:26.602289Z",
     "shell.execute_reply": "2024-08-05T13:13:26.601082Z",
     "shell.execute_reply.started": "2024-08-05T13:13:26.593940Z"
    },
    "trusted": true
   },
   "outputs": [],
   "source": [
    "y_test,yhatnum_test"
   ]
  },
  {
   "cell_type": "markdown",
   "metadata": {},
   "source": [
    "Das ist nun also der Klassenindex- da wir die Bilder nicht \"geshuffled\" haben, ist zumindest die Sequenz `y_test` monoton. Bei `yhatnum_test` (also unseren Vorhersagen auf diesen Bildern) gibt es einige wenige Abweichungen. Das ist zu erwarten. Wenn wir nur wüssten, welcher Klasse das zugehört?!  \n",
    "Aber weil wir zu neugierig sind, wie gut das Modell sein könnte, rechnen wir ohne dieses Wissen mal die Genauigkeit aus:"
   ]
  },
  {
   "cell_type": "code",
   "execution_count": null,
   "metadata": {
    "execution": {
     "iopub.execute_input": "2024-07-11T11:11:42.795953Z",
     "iopub.status.busy": "2024-07-11T11:11:42.795546Z",
     "iopub.status.idle": "2024-07-11T11:11:42.807982Z",
     "shell.execute_reply": "2024-07-11T11:11:42.804414Z",
     "shell.execute_reply.started": "2024-07-11T11:11:42.795920Z"
    },
    "trusted": true
   },
   "outputs": [],
   "source": [
    "Genauigkeit = np.mean(np.where(y_test==yhatnum_test,1,0)) \n",
    "# np.where könnte man auch weglassen, so: Genauigkeit = np.mean(y_test==yhatnum_test). \n",
    "# Aber was ist der Mittelwert von True, False, True? \n",
    "# Klarer ist's wenn wir mit where ersetzen: True->1 und False->0\n",
    "assert Genauigkeit==np.mean(y_test==yhatnum_test) # Ergibt einen Fehler, sollte das mal nicht mehr stimmen\n",
    "print(f'Die Testgenauigkeit ist {100*Genauigkeit:3.1f}%.')"
   ]
  },
  {
   "cell_type": "markdown",
   "metadata": {},
   "source": [
    "Nun würden wir also auch gerne die Label kennen. Wir müssen den Labelindex (die Zahl) mit dem Namen der Klasse in Verbindung bringen. Zum Glück werden die Klassenlabel sortiert durchgezählt, so dass dieser Schritt nicht schwer ist:"
   ]
  },
  {
   "cell_type": "code",
   "execution_count": null,
   "metadata": {
    "execution": {
     "iopub.execute_input": "2024-08-05T13:16:34.312198Z",
     "iopub.status.busy": "2024-08-05T13:16:34.311360Z",
     "iopub.status.idle": "2024-08-05T13:16:34.319479Z",
     "shell.execute_reply": "2024-08-05T13:16:34.318366Z",
     "shell.execute_reply.started": "2024-08-05T13:16:34.312160Z"
    },
    "trusted": true
   },
   "outputs": [],
   "source": [
    "sorted_class_labels = np.array(sorted(Klassenlabel.unique())) #Labels in Keras der Funktion image_dataset_from_directory werden immer alphanummerisch sortiert den Indices zugeordnet\n",
    "sorted_class_labels"
   ]
  },
  {
   "cell_type": "code",
   "execution_count": null,
   "metadata": {
    "execution": {
     "iopub.execute_input": "2024-08-05T13:16:47.310724Z",
     "iopub.status.busy": "2024-08-05T13:16:47.310317Z",
     "iopub.status.idle": "2024-08-05T13:16:47.321277Z",
     "shell.execute_reply": "2024-08-05T13:16:47.319974Z",
     "shell.execute_reply.started": "2024-08-05T13:16:47.310692Z"
    },
    "trusted": true
   },
   "outputs": [],
   "source": [
    "yhat_label = pd.Series(sorted_class_labels[yhatnum_test],index=testbilder.index)\n",
    "y_test_label = pd.Series(sorted_class_labels[y_test],index=testbilder.index)\n",
    "# das vorhergesagte Label:\n",
    "yhat_label"
   ]
  },
  {
   "cell_type": "code",
   "execution_count": null,
   "metadata": {
    "execution": {
     "iopub.execute_input": "2024-08-05T13:16:52.409180Z",
     "iopub.status.busy": "2024-08-05T13:16:52.408765Z",
     "iopub.status.idle": "2024-08-05T13:16:52.418270Z",
     "shell.execute_reply": "2024-08-05T13:16:52.416832Z",
     "shell.execute_reply.started": "2024-08-05T13:16:52.409146Z"
    },
    "trusted": true
   },
   "outputs": [],
   "source": [
    "# und das Tatsächliche:\n",
    "y_test_label"
   ]
  },
  {
   "cell_type": "code",
   "execution_count": null,
   "metadata": {
    "execution": {
     "iopub.execute_input": "2024-08-05T13:16:55.092425Z",
     "iopub.status.busy": "2024-08-05T13:16:55.091109Z",
     "iopub.status.idle": "2024-08-05T13:16:55.099422Z",
     "shell.execute_reply": "2024-08-05T13:16:55.098280Z",
     "shell.execute_reply.started": "2024-08-05T13:16:55.092375Z"
    },
    "trusted": true
   },
   "outputs": [],
   "source": [
    "# Natürlich muss die gleiche Genauigkeit rauskommen, wenn wir sie mit den Labels berechnen, anstatt mit den Labelindices:\n",
    "Genauigkeit2 = (yhat_label==y_test_label).mean()\n",
    "print(f'Die Testgenauigkeit ist {100*Genauigkeit2:3.1f}%.')"
   ]
  },
  {
   "cell_type": "markdown",
   "metadata": {},
   "source": [
    "Schliesslich können wir uns noch die Wahrscheinlichkeit merken, mit welcher das Neuronale Netz eine Klasse identifiziert hat. Dies ist also die grösste Zahl unter den $P(y=c_i|X)$ für alle Klassen $c_1$,...,$c_C$ ($C$ der Anzahl Klassen unseres Problems, `yhat_test.shape[1]`."
   ]
  },
  {
   "cell_type": "code",
   "execution_count": null,
   "metadata": {
    "execution": {
     "iopub.execute_input": "2024-08-05T13:16:56.801055Z",
     "iopub.status.busy": "2024-08-05T13:16:56.799274Z",
     "iopub.status.idle": "2024-08-05T13:16:56.808304Z",
     "shell.execute_reply": "2024-08-05T13:16:56.807037Z",
     "shell.execute_reply.started": "2024-08-05T13:16:56.801007Z"
    },
    "trusted": true
   },
   "outputs": [],
   "source": [
    "P = np.max(yhat_test,axis=1)\n",
    "P.shape"
   ]
  },
  {
   "cell_type": "markdown",
   "metadata": {},
   "source": [
    "# Scikit-Plot\n",
    "Wir sind bereit! Wir kennen die Testbilder, deren zugehörige Klassenlabel und Vorhersagen durch das geladene Modell. Wir folgen der Dokumentation [hier](https://scikit-plot.readthedocs.io/en/stable/metrics.html). Berechnen wir Metriken! Wir beginnen mit der Confusion Matrix:"
   ]
  },
  {
   "cell_type": "code",
   "execution_count": null,
   "metadata": {
    "execution": {
     "iopub.execute_input": "2024-08-05T13:17:09.338943Z",
     "iopub.status.busy": "2024-08-05T13:17:09.338460Z",
     "iopub.status.idle": "2024-08-05T13:17:10.669102Z",
     "shell.execute_reply": "2024-08-05T13:17:10.667931Z",
     "shell.execute_reply.started": "2024-08-05T13:17:09.338907Z"
    },
    "trusted": true
   },
   "outputs": [],
   "source": [
    "from scikitplot.metrics import plot_confusion_matrix\n",
    "plot_confusion_matrix(y_test_label,yhat_label,labels=sorted_class_labels,x_tick_rotation=45)"
   ]
  },
  {
   "cell_type": "markdown",
   "metadata": {},
   "source": [
    "Beachten Sie, wie hübsch blockdiagonal die confusion matrix geworden ist. Dies zeigt, dass das Modell sich meist in der Form, und selten bis nie in der Farbe irrt.  \n",
    "Ein offensichtliches Problem ist natürlich, dass wir den Grossteil der Daten zum Training benutzt haben (das ist gängige Praxis), und nun nur wenige Beispiele (pro Klasse) übrig haben, um die Präzision und den Recall der Klasse zu schätzen. Mehr Daten wären schon praktisch..."
   ]
  },
  {
   "cell_type": "code",
   "execution_count": null,
   "metadata": {
    "execution": {
     "iopub.execute_input": "2024-08-05T13:25:02.644083Z",
     "iopub.status.busy": "2024-08-05T13:25:02.643633Z",
     "iopub.status.idle": "2024-08-05T13:25:02.673093Z",
     "shell.execute_reply": "2024-08-05T13:25:02.671954Z",
     "shell.execute_reply.started": "2024-08-05T13:25:02.644014Z"
    },
    "trusted": true
   },
   "outputs": [],
   "source": [
    "display((y_test_label==yhat_label).value_counts())\n",
    "print('-'*30)\n",
    "for curr_class_str in yhat_label.unique():\n",
    "    curr_class_results=(y_test_label[y_test_label==curr_class_str]==yhat_label[y_test_label==curr_class_str])\n",
    "    print(f'{curr_class_str:<10}:{100*curr_class_results.mean():3.0f}%')"
   ]
  },
  {
   "cell_type": "code",
   "execution_count": null,
   "metadata": {
    "execution": {
     "iopub.execute_input": "2024-08-05T13:25:14.881895Z",
     "iopub.status.busy": "2024-08-05T13:25:14.881491Z",
     "iopub.status.idle": "2024-08-05T13:25:15.630788Z",
     "shell.execute_reply": "2024-08-05T13:25:15.629604Z",
     "shell.execute_reply.started": "2024-08-05T13:25:14.881864Z"
    },
    "trusted": true
   },
   "outputs": [],
   "source": [
    "ax = plt.subplot(1,1,1)\n",
    "scikitplot.metrics.plot_precision_recall(y_test_label,yhat_test,ax=ax)\n",
    "ax.legend(bbox_to_anchor=(1.1, 1.05)); #Legende ausserhalb des Plots- sonst sieht man nichts"
   ]
  },
  {
   "cell_type": "code",
   "execution_count": null,
   "metadata": {
    "execution": {
     "iopub.execute_input": "2024-08-05T13:25:28.313810Z",
     "iopub.status.busy": "2024-08-05T13:25:28.313405Z",
     "iopub.status.idle": "2024-08-05T13:25:29.019462Z",
     "shell.execute_reply": "2024-08-05T13:25:29.018276Z",
     "shell.execute_reply.started": "2024-08-05T13:25:28.313772Z"
    },
    "trusted": true
   },
   "outputs": [],
   "source": [
    "ax = plt.subplot(1,1,1)\n",
    "scikitplot.metrics.plot_roc(y_test_label,yhat_test,ax=ax)\n",
    "ax.legend(bbox_to_anchor=(1.1, 1.05)); #Legende ausserhalb des Plots- sonst sieht man nichts"
   ]
  },
  {
   "cell_type": "markdown",
   "metadata": {},
   "source": [
    "Ein Problem hier ist, dass das neuronale Netz für recht viele Klassen (\"area=1.000\") eine extreme Precision-Recall-Kurve ausgibt- von (0,1) über (1,1) nach (1,0). Aber wer würde sich schon darüber beklagen!"
   ]
  },
  {
   "cell_type": "markdown",
   "metadata": {},
   "source": [
    "Zur Erinnerung, dies ist das Modell, das die obigen Resultate erziehlt hat. Wir können es grundsätzlich irgendwo (auf einem Raspberry-Pi?) laden und dort Vorhersagen generieren."
   ]
  },
  {
   "cell_type": "code",
   "execution_count": null,
   "metadata": {
    "execution": {
     "iopub.execute_input": "2024-08-05T13:25:37.704586Z",
     "iopub.status.busy": "2024-08-05T13:25:37.704168Z",
     "iopub.status.idle": "2024-08-05T13:25:37.711593Z",
     "shell.execute_reply": "2024-08-05T13:25:37.710473Z",
     "shell.execute_reply.started": "2024-08-05T13:25:37.704556Z"
    },
    "trusted": true
   },
   "outputs": [],
   "source": [
    "loaded_model "
   ]
  }
 ],
 "metadata": {
  "kaggle": {
   "accelerator": "none",
   "dataSources": [
    {
     "datasetId": 5200216,
     "sourceId": 8675720,
     "sourceType": "datasetVersion"
    },
    {
     "isSourceIdPinned": true,
     "modelInstanceId": 64165,
     "sourceId": 76355,
     "sourceType": "modelInstanceVersion"
    }
   ],
   "dockerImageVersionId": 30732,
   "isGpuEnabled": false,
   "isInternetEnabled": true,
   "language": "python",
   "sourceType": "notebook"
  },
  "kernelspec": {
   "display_name": "MSc_WI_DSCI",
   "language": "python",
   "name": "python3"
  },
  "language_info": {
   "codemirror_mode": {
    "name": "ipython",
    "version": 3
   },
   "file_extension": ".py",
   "mimetype": "text/x-python",
   "name": "python",
   "nbconvert_exporter": "python",
   "pygments_lexer": "ipython3",
   "version": "3.10.13"
  }
 },
 "nbformat": 4,
 "nbformat_minor": 4
}
